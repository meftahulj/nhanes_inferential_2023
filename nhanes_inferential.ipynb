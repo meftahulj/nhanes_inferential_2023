{
  "nbformat": 4,
  "nbformat_minor": 0,
  "metadata": {
    "colab": {
      "provenance": [],
      "authorship_tag": "ABX9TyNK4dYthFj3nCNf+aO7OINn",
      "include_colab_link": true
    },
    "kernelspec": {
      "name": "python3",
      "display_name": "Python 3"
    },
    "language_info": {
      "name": "python"
    }
  },
  "cells": [
    {
      "cell_type": "markdown",
      "metadata": {
        "id": "view-in-github",
        "colab_type": "text"
      },
      "source": [
        "<a href=\"https://colab.research.google.com/github/meftahulj/nhanes_inferential_2023/blob/main/nhanes_inferential.ipynb\" target=\"_parent\"><img src=\"https://colab.research.google.com/assets/colab-badge.svg\" alt=\"Open In Colab\"/></a>"
      ]
    },
    {
      "cell_type": "code",
      "execution_count": 1,
      "metadata": {
        "id": "Fz193cxwidSE"
      },
      "outputs": [],
      "source": [
        "import pandas as pd\n",
        "from scipy.stats import chi2_contingency\n",
        "import numpy as np"
      ]
    },
    {
      "cell_type": "code",
      "source": [
        "\n",
        "demo = pd.read_sas('https://wwwn.cdc.gov/Nchs/Nhanes/2021-2022/DEMO_L.XPT', format='xport')\n",
        "bp = pd.read_sas('https://wwwn.cdc.gov/Nchs/Nhanes/2021-2022/BPXO_L.XPT', format='xport')\n",
        "body = pd.read_sas('https://wwwn.cdc.gov/Nchs/Nhanes/2021-2022/BMX_L.XPT', format='xport')\n",
        "chol_total = pd.read_sas('https://wwwn.cdc.gov/Nchs/Nhanes/2021-2022/TCHOL_L.XPT', format='xport')\n",
        "glycohemo = pd.read_sas('https://wwwn.cdc.gov/Nchs/Nhanes/2021-2022/GHB_L.XPT', format='xport')\n",
        "crp = pd.read_sas('https://wwwn.cdc.gov/Nchs/Nhanes/2021-2022/HSCRP_L.XPT', format='xport')\n",
        "dm = pd.read_sas('https://wwwn.cdc.gov/Nchs/Nhanes/2021-2022/DIQ_L.XPT', format='xport')\n",
        "phy = pd.read_sas('https://wwwn.cdc.gov/Nchs/Nhanes/2021-2022/PAQ_L.XPT', format='xport')\n",
        "whd = pd.read_sas('https://wwwn.cdc.gov/Nchs/Nhanes/2021-2022/WHQ_L.XPT', format='xport')"
      ],
      "metadata": {
        "id": "TAGLlywli3NX"
      },
      "execution_count": 2,
      "outputs": []
    },
    {
      "cell_type": "code",
      "source": [
        "demographics = pd.read_sas('https://wwwn.cdc.gov/Nchs/Nhanes/2021-2022/DEMO_L.XPT', format='xport')\n",
        "demographics.DMDMARTZ"
      ],
      "metadata": {
        "colab": {
          "base_uri": "https://localhost:8080/",
          "height": 453
        },
        "id": "zYQc-jndjA2R",
        "outputId": "9596a6e0-24c1-4c21-e1f8-55a331e6f587"
      },
      "execution_count": 3,
      "outputs": [
        {
          "output_type": "execute_result",
          "data": {
            "text/plain": [
              "0        1.0\n",
              "1        1.0\n",
              "2        1.0\n",
              "3        NaN\n",
              "4        NaN\n",
              "        ... \n",
              "11928    NaN\n",
              "11929    3.0\n",
              "11930    1.0\n",
              "11931    2.0\n",
              "11932    1.0\n",
              "Name: DMDMARTZ, Length: 11933, dtype: float64"
            ],
            "text/html": [
              "<div>\n",
              "<style scoped>\n",
              "    .dataframe tbody tr th:only-of-type {\n",
              "        vertical-align: middle;\n",
              "    }\n",
              "\n",
              "    .dataframe tbody tr th {\n",
              "        vertical-align: top;\n",
              "    }\n",
              "\n",
              "    .dataframe thead th {\n",
              "        text-align: right;\n",
              "    }\n",
              "</style>\n",
              "<table border=\"1\" class=\"dataframe\">\n",
              "  <thead>\n",
              "    <tr style=\"text-align: right;\">\n",
              "      <th></th>\n",
              "      <th>DMDMARTZ</th>\n",
              "    </tr>\n",
              "  </thead>\n",
              "  <tbody>\n",
              "    <tr>\n",
              "      <th>0</th>\n",
              "      <td>1.0</td>\n",
              "    </tr>\n",
              "    <tr>\n",
              "      <th>1</th>\n",
              "      <td>1.0</td>\n",
              "    </tr>\n",
              "    <tr>\n",
              "      <th>2</th>\n",
              "      <td>1.0</td>\n",
              "    </tr>\n",
              "    <tr>\n",
              "      <th>3</th>\n",
              "      <td>NaN</td>\n",
              "    </tr>\n",
              "    <tr>\n",
              "      <th>4</th>\n",
              "      <td>NaN</td>\n",
              "    </tr>\n",
              "    <tr>\n",
              "      <th>...</th>\n",
              "      <td>...</td>\n",
              "    </tr>\n",
              "    <tr>\n",
              "      <th>11928</th>\n",
              "      <td>NaN</td>\n",
              "    </tr>\n",
              "    <tr>\n",
              "      <th>11929</th>\n",
              "      <td>3.0</td>\n",
              "    </tr>\n",
              "    <tr>\n",
              "      <th>11930</th>\n",
              "      <td>1.0</td>\n",
              "    </tr>\n",
              "    <tr>\n",
              "      <th>11931</th>\n",
              "      <td>2.0</td>\n",
              "    </tr>\n",
              "    <tr>\n",
              "      <th>11932</th>\n",
              "      <td>1.0</td>\n",
              "    </tr>\n",
              "  </tbody>\n",
              "</table>\n",
              "<p>11933 rows × 1 columns</p>\n",
              "</div><br><label><b>dtype:</b> float64</label>"
            ]
          },
          "metadata": {},
          "execution_count": 3
        }
      ]
    },
    {
      "cell_type": "code",
      "source": [
        "nhanes_data = demo.merge(bp, on='SEQN', how='left')\\\n",
        "                  .merge(body, on='SEQN', how='left')\\\n",
        "                  .merge(chol_total, on='SEQN', how='left')\\\n",
        "                  .merge(glycohemo, on='SEQN', how='left')\\\n",
        "                  .merge(crp, on='SEQN', how='left')\\\n",
        "                  .merge(dm, on='SEQN', how='left')\\\n",
        "                  .merge(phy, on='SEQN', how='left')\\\n",
        "                  .merge(whd, on='SEQN', how='left')\n",
        "print (nhanes_data)"
      ],
      "metadata": {
        "colab": {
          "base_uri": "https://localhost:8080/"
        },
        "id": "UHC3YwxgksjS",
        "outputId": "13df6321-d5a8-4179-f72c-affb903b7caf"
      },
      "execution_count": 5,
      "outputs": [
        {
          "output_type": "stream",
          "name": "stdout",
          "text": [
            "           SEQN  SDDSRVYR  RIDSTATR  RIAGENDR  RIDAGEYR  RIDAGEMN  RIDRETH1  \\\n",
            "0      130378.0      12.0       2.0       1.0      43.0       NaN       5.0   \n",
            "1      130379.0      12.0       2.0       1.0      66.0       NaN       3.0   \n",
            "2      130380.0      12.0       2.0       2.0      44.0       NaN       2.0   \n",
            "3      130381.0      12.0       2.0       2.0       5.0       NaN       5.0   \n",
            "4      130382.0      12.0       2.0       1.0       2.0       NaN       3.0   \n",
            "...         ...       ...       ...       ...       ...       ...       ...   \n",
            "11928  142306.0      12.0       2.0       1.0       9.0       NaN       2.0   \n",
            "11929  142307.0      12.0       2.0       2.0      49.0       NaN       4.0   \n",
            "11930  142308.0      12.0       2.0       1.0      50.0       NaN       2.0   \n",
            "11931  142309.0      12.0       2.0       1.0      40.0       NaN       2.0   \n",
            "11932  142310.0      12.0       2.0       2.0      80.0       NaN       3.0   \n",
            "\n",
            "       RIDRETH3  RIDEXMON  RIDEXAGM  ...  PAD790U  PAD800       PAD810Q  \\\n",
            "0           6.0       2.0       NaN  ...     b'W'    45.0  3.000000e+00   \n",
            "1           3.0       2.0       NaN  ...     b'W'    45.0  3.000000e+00   \n",
            "2           2.0       1.0       NaN  ...     b'W'    20.0  5.397605e-79   \n",
            "3           7.0       1.0      71.0  ...      NaN     NaN           NaN   \n",
            "4           3.0       2.0      34.0  ...      NaN     NaN           NaN   \n",
            "...         ...       ...       ...  ...      ...     ...           ...   \n",
            "11928       2.0       1.0     111.0  ...      NaN     NaN           NaN   \n",
            "11929       4.0       2.0       NaN  ...     b'W'    15.0  5.397605e-79   \n",
            "11930       2.0       1.0       NaN  ...     b'W'    45.0  5.397605e-79   \n",
            "11931       2.0       1.0       NaN  ...     b'D'    15.0  5.397605e-79   \n",
            "11932       3.0       1.0       NaN  ...      b''     NaN  5.397605e-79   \n",
            "\n",
            "       PAD810U  PAD820  PAD680  WHD010  WHD020  WHD050  WHQ070  \n",
            "0         b'W'    45.0   360.0    71.0   190.0   200.0     1.0  \n",
            "1         b'W'    45.0   480.0    70.0   220.0   220.0     2.0  \n",
            "2          b''     NaN   240.0    60.0   150.0   165.0     1.0  \n",
            "3          NaN     NaN     NaN     NaN     NaN     NaN     NaN  \n",
            "4          NaN     NaN     NaN     NaN     NaN     NaN     NaN  \n",
            "...        ...     ...     ...     ...     ...     ...     ...  \n",
            "11928      NaN     NaN     NaN     NaN     NaN     NaN     NaN  \n",
            "11929      b''     NaN   480.0    61.0   206.0   235.0     1.0  \n",
            "11930      b''     NaN   600.0    69.0   174.0   180.0     1.0  \n",
            "11931      b''     NaN   240.0    69.0   200.0   170.0     2.0  \n",
            "11932      b''     NaN   360.0    64.0   157.0   157.0     1.0  \n",
            "\n",
            "[11933 rows x 86 columns]\n"
          ]
        }
      ]
    }
  ]
}